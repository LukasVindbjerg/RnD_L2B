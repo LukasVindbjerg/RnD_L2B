{
 "cells": [
  {
   "cell_type": "code",
   "execution_count": 4,
   "metadata": {},
   "outputs": [
    {
     "name": "stderr",
     "output_type": "stream",
     "text": [
      "Special tokens have been added in the vocabulary, make sure the associated word embeddings are fine-tuned or trained.\n"
     ]
    },
    {
     "name": "stdout",
     "output_type": "stream",
     "text": [
      "Text: Do the laundry, but first wash the car\n",
      "Label: car.wash(), laundry_room.clean(laundry)\n",
      "Text with label: REVERSE Do the laundry, but first wash the car\n",
      "\n",
      "Text: Clean the kitchen, then empty the trash\n",
      "Label: kitchen.clean(), trash.empty()\n",
      "Text with label: FIRST Clean the kitchen, then empty the trash\n",
      "\n",
      "Text: Water the plants and then vacuum the living room\n",
      "Label: garden.water(plants), living_room.vacuum()\n",
      "Text with label: FIRST Water the plants and then vacuum the living room\n",
      "\n",
      "Text: Take out the trash, but first clean the kitchen sink\n",
      "Label: kitchen.clean(sink), trash_can.empty()\n",
      "Text with label: REVERSE Take out the trash, but first clean the kitchen sink\n",
      "\n",
      "Text: Clean the kitchen. No, do the laundry instead\n",
      "Label: laundry_room.clean(laundry)\n",
      "Text with label: REPLACE Clean the kitchen. No, do the laundry instead\n",
      "\n",
      "Text: Start the dishwasher. Nevermind\n",
      "Label: EMPTY\n",
      "Text with label: CLEAR Start the dishwasher. Nevermind\n",
      "\n",
      "Text: Cook dinner, then set the table, and finally clean the dishes\n",
      "Label: kitchen.cook(dinner), dining_room.set(table), kitchen.clean(dishes)\n",
      "Text with label: APPEND Cook dinner, then set the table, and finally clean the dishes\n",
      "\n",
      "Text: Feed the cat, then clean the litter box\n",
      "Label: pet_bed.refill(), litter_box.clean()\n",
      "Text with label: FIRST Feed the cat, then clean the litter box\n",
      "\n",
      "Text: Clean the kitchen\n",
      "Label: kitchen.clean()\n",
      "Text with label: DSL Clean the kitchen\n",
      "\n",
      "Text: Empty the trash\n",
      "Label: trash.empty()\n",
      "Text with label: DSL Empty the trash\n",
      "\n"
     ]
    }
   ],
   "source": [
    "from transformers import T5Tokenizer, T5ForConditionalGeneration, Trainer, TrainingArguments, EarlyStoppingCallback\n",
    "import pandas as pd\n",
    "import torch\n",
    "import csv\n",
    "import datetime\n",
    "from transformers.integrations import TensorBoardCallback\n",
    "\n",
    "# Get current date and time\n",
    "now = datetime.datetime.now()\n",
    "timestamp = now.strftime(\"%Y%m%d_%H%M%S\")\n",
    "\n",
    "# Load pre-trained T5 model and tokenizer\n",
    "model_name = \"t5-small\"\n",
    "tokenizer = T5Tokenizer.from_pretrained(model_name)\n",
    "model = T5ForConditionalGeneration.from_pretrained(model_name)\n",
    "\n",
    "# Load the custom vocabulary from the CSV file\n",
    "vocab_path = '../../data/custom_vocab.csv'\n",
    "custom_vocab = []\n",
    "with open(vocab_path, 'r') as file:\n",
    "    reader = csv.reader(file)\n",
    "    next(reader)  # Skip the header\n",
    "    for row in reader:\n",
    "        custom_vocab.append(row[0])\n",
    "\n",
    "# Add essential tokens to ensure tokenizer functionality\n",
    "essential_tokens = ['[PAD]', '[EOS]', '[SEP]', '[CLS]', '[MASK]']\n",
    "full_vocab = essential_tokens + custom_vocab\n",
    "\n",
    "# Ensure no duplicates\n",
    "full_vocab = list(set(full_vocab))\n",
    "\n",
    "# Recreate the tokenizer with only the custom vocabulary\n",
    "tokenizer.add_tokens(full_vocab)\n",
    "model.resize_token_embeddings(len(tokenizer))\n",
    "\n",
    "# Encode the special tokens manually\n",
    "special_tokens_dict = {'pad_token': '[PAD]', 'eos_token': '[EOS]'}\n",
    "tokenizer.add_special_tokens(special_tokens_dict)\n",
    "\n",
    "# Load the training data\n",
    "df = pd.read_csv('../../data/full_dataset.csv')\n",
    "\n",
    "# Filter out rows with empty 'dsl' values\n",
    "df = df[df['dsl'].notna()]\n",
    "\n",
    "train_texts = df['text'].tolist()\n",
    "train_labels = df['dsl'].tolist()\n",
    "train_texts_with_concat = df.apply(lambda row: f\"{row['label']} {row['text']}\", axis=1).tolist()\n",
    "\n",
    "for i in range(10):\n",
    "    print(f\"Text: {train_texts[i]}\")\n",
    "    print(f\"Label: {train_labels[i]}\")\n",
    "    print(f\"Text with label: {train_texts_with_concat[i]}\")\n",
    "    print()\n"
   ]
  },
  {
   "cell_type": "code",
   "execution_count": null,
   "metadata": {},
   "outputs": [],
   "source": []
  }
 ],
 "metadata": {
  "kernelspec": {
   "display_name": "RnD",
   "language": "python",
   "name": "python3"
  },
  "language_info": {
   "codemirror_mode": {
    "name": "ipython",
    "version": 3
   },
   "file_extension": ".py",
   "mimetype": "text/x-python",
   "name": "python",
   "nbconvert_exporter": "python",
   "pygments_lexer": "ipython3",
   "version": "3.8.19"
  }
 },
 "nbformat": 4,
 "nbformat_minor": 2
}
