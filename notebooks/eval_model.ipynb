{
 "cells": [
  {
   "cell_type": "code",
   "execution_count": 1,
   "metadata": {},
   "outputs": [
    {
     "name": "stderr",
     "output_type": "stream",
     "text": [
      "c:\\Users\\lvind\\.conda\\envs\\RnD\\lib\\site-packages\\tqdm\\auto.py:21: TqdmWarning: IProgress not found. Please update jupyter and ipywidgets. See https://ipywidgets.readthedocs.io/en/stable/user_install.html\n",
      "  from .autonotebook import tqdm as notebook_tqdm\n"
     ]
    }
   ],
   "source": [
    "\"\"\" Concat Input \"\"\"\n",
    "\n",
    "import torch\n",
    "from transformers import T5Tokenizer, T5ForConditionalGeneration, BertTokenizer, BertForSequenceClassification\n",
    "\n"
   ]
  },
  {
   "cell_type": "code",
   "execution_count": 2,
   "metadata": {},
   "outputs": [],
   "source": [
    "def classify_order(text, bert_model, bert_tokenizer):\n",
    "    inputs = bert_tokenizer(text, return_tensors=\"pt\")\n",
    "    outputs = bert_model(**inputs)\n",
    "    predictions = torch.argmax(outputs.logits, dim=1)\n",
    "    return \"REVERSE\" if predictions.item() == 0 else \"FIRST\"\n",
    "\n",
    "def generate_dsl(input_text, t5_tokenizer, t5_model, order_classification):\n",
    "    # Add the order classification token to the input text\n",
    "    augmented_text = f\"{order_classification} {input_text}\"\n",
    "    input_ids = t5_tokenizer.encode(augmented_text, return_tensors='pt')\n",
    "\n",
    "    # Generate tokens\n",
    "    output_ids = t5_model.generate(\n",
    "        input_ids,\n",
    "        max_length=50,\n",
    "        num_beams=5,\n",
    "        no_repeat_ngram_size=2,\n",
    "        early_stopping=True,\n",
    "        eos_token_id=t5_tokenizer.eos_token_id,\n",
    "        pad_token_id=t5_tokenizer.pad_token_id\n",
    "    )\n",
    "\n",
    "    # Decode the generated tokens\n",
    "    generated_text = t5_tokenizer.decode(output_ids[0], skip_special_tokens=True)\n",
    "    return generated_text\n",
    "\n"
   ]
  },
  {
   "cell_type": "code",
   "execution_count": 4,
   "metadata": {},
   "outputs": [
    {
     "name": "stderr",
     "output_type": "stream",
     "text": [
      "Special tokens have been added in the vocabulary, make sure the associated word embeddings are fine-tuned or trained.\n"
     ]
    }
   ],
   "source": [
    "# Load the fine-tuned models and tokenizers\n",
    "t5_tokenizer = T5Tokenizer.from_pretrained('../../models/t5_label_concat_tokenizer_20240608_153342')\n",
    "t5_model = T5ForConditionalGeneration.from_pretrained('../../models/t5_label_concat_model_20240608_153342')\n",
    "bert_tokenizer = BertTokenizer.from_pretrained('../../models/bert_order_tokenizer_20240609_142648')\n",
    "bert_model = BertForSequenceClassification.from_pretrained('../../models/bert_order_model_20240609_142648')\n",
    "\n"
   ]
  },
  {
   "cell_type": "code",
   "execution_count": 5,
   "metadata": {},
   "outputs": [],
   "source": [
    "def test_prompt(text):\n",
    "    order_classification = classify_order(text, bert_model, bert_tokenizer)\n",
    "    generated_dsl = generate_dsl(text, t5_tokenizer, t5_model, order_classification)\n",
    "    print(f\"Input: {text}\\nOrder Classification: {order_classification}\\nOutput: {generated_dsl}\\n\")\n"
   ]
  },
  {
   "cell_type": "code",
   "execution_count": 18,
   "metadata": {},
   "outputs": [
    {
     "name": "stdout",
     "output_type": "stream",
     "text": [
      "Input: Empty the trash, then wash the dishes\n",
      "Order Classification: FIRST\n",
      "Output: <pad> trash coffee_table, trash.clean()\n",
      "\n"
     ]
    }
   ],
   "source": [
    "test_prompt(\"Empty the trash, then wash the dishes\")"
   ]
  },
  {
   "cell_type": "code",
   "execution_count": 19,
   "metadata": {},
   "outputs": [
    {
     "name": "stdout",
     "output_type": "stream",
     "text": [
      "Input: Vacuum the attic and organize the storage bins\n",
      "Order Classification: FIRST\n",
      "Output: <pad>.clean(), bathroom. organize( storage bins)\n",
      "\n",
      "Input: Empty the bathroom trash and clean the toilet\n",
      "Order Classification: FIRST\n",
      "Output: <pad> bathroom. clean( trash ), windows DIRECT\n",
      "\n",
      "Input: Clean the balcony and polish the railings\n",
      "Order Classification: FIRST\n",
      "Output: <pad> wardrobe, wardrobe. polish(rail )\n",
      "\n",
      "Input: Vacuum the office and sanitize the keyboard\n",
      "Order Classification: REVERSE\n",
      "Output: <pad> office, office. sanitize( keyboard )\n",
      "\n",
      "Input: Clean the dining room floor and wipe the table\n",
      "Order Classification: FIRST\n",
      "Output: <pad> living_room. clean( floor ), table. wipe( table )\n",
      "\n",
      "Input: Clean the bathroom shower and sanitize the sink\n",
      "Order Classification: REVERSE\n",
      "Output: <pad>.vacuum().clean(),\n",
      "\n",
      "Input: Clean the kitchen, then vacuum the living room\n",
      "Order Classification: FIRST\n",
      "Output: <pad>.vacuum().clean(), wardrobe. vacuum( wardrobe )\n",
      "\n",
      "Input: Wash the car and clean the garage\n",
      "Order Classification: FIRST\n",
      "Output: <pad> car garden, windows. clean(truck )\n",
      "\n",
      "Input: Clean the bedroom and organize the closet\n",
      "Order Classification: FIRST\n",
      "Output: <pad> bedroom.clean(), bedroom. organize( wardrobe )\n",
      "\n",
      "Input: Clean the dining room windows, then tidy the chairs\n",
      "Order Classification: FIRST\n",
      "Output: <pad> living_room. clean(mirror), wardrobe. tidy(chairs)\n",
      "\n",
      "Input: Clean the office, then empty the trash\n",
      "Order Classification: FIRST\n",
      "Output: <pad> office. clean( trash ), trash.clean()\n",
      "\n",
      "Input: Vacuum the living room and mop the hallway\n",
      "Order Classification: FIRST\n",
      "Output: <pad> wardrobe.vacuum(), wardrobe\n",
      "\n",
      "Input: Clean the bathroom mirror and sanitize the sink\n",
      "Order Classification: REVERSE\n",
      "Output: <pad>.tidy().clean(),\n",
      "\n",
      "Input: Wash the car and clean the garage floor\n",
      "Order Classification: FIRST\n",
      "Output: <pad> car.clean(), garden. clean( floor )\n",
      "\n",
      "Input: Vacuum the bedroom and tidy the wardrobe\n",
      "Order Classification: FIRST\n",
      "Output: <pad> bedroom. vacuum( wardrobe ), wardrobe\n",
      "\n",
      "Input: Clean the living room sofa and vacuum the carpet\n",
      "Order Classification: FIRST\n",
      "Output: <pad> garden. clean( wardrobe ), [MASK]. vacuum( garden )\n",
      "\n",
      "Input: Clean the dining room table and polish the chairs\n",
      "Order Classification: FIRST\n",
      "Output: <pad> wardrobe. clean( table ),chair. polish(chairs)\n",
      "\n",
      "Input: Clean the kitchen stove and sanitize the sink\n",
      "Order Classification: REVERSE\n",
      "Output: <pad>.vacuum(). clean(\n",
      "\n",
      "Input: Empty the bathroom trash and mop the floor\n",
      "Order Classification: FIRST\n",
      "Output: <pad> bathroom. emptier. mop( floor )\n",
      "\n",
      "Input: Vacuum the playroom and tidy the toys\n",
      "Order Classification: FIRST\n",
      "Output: <pad> bathroom. vacuum( wardrobe ),\n",
      "\n"
     ]
    }
   ],
   "source": [
    "list_of_tasks = [\n",
    "    \"Vacuum the attic and organize the storage bins\",\n",
    "\"Empty the bathroom trash and clean the toilet\",\n",
    "\"Clean the balcony and polish the railings\",\n",
    "\"Vacuum the office and sanitize the keyboard\",\n",
    "\"Clean the dining room floor and wipe the table\",\n",
    "\"Clean the bathroom shower and sanitize the sink\",\n",
    "\"Clean the kitchen, then vacuum the living room\",\n",
    "\"Wash the car and clean the garage\",\n",
    "\"Clean the bedroom and organize the closet\",\n",
    "\"Clean the dining room windows, then tidy the chairs\",\n",
    "\"Clean the office, then empty the trash\",\n",
    "\"Vacuum the living room and mop the hallway\",\n",
    "\"Clean the bathroom mirror and sanitize the sink\",\n",
    "\"Wash the car and clean the garage floor\",\n",
    "\"Vacuum the bedroom and tidy the wardrobe\",\n",
    "\"Clean the living room sofa and vacuum the carpet\",\n",
    "\"Clean the dining room table and polish the chairs\",\n",
    "\"Clean the kitchen stove and sanitize the sink\",\n",
    "\"Empty the bathroom trash and mop the floor\",\n",
    "\"Vacuum the playroom and tidy the toys\"\n",
    "]\n",
    "\n",
    "for task in list_of_tasks:\n",
    "    test_prompt(task)"
   ]
  },
  {
   "cell_type": "code",
   "execution_count": null,
   "metadata": {},
   "outputs": [],
   "source": []
  }
 ],
 "metadata": {
  "kernelspec": {
   "display_name": "RnD",
   "language": "python",
   "name": "python3"
  },
  "language_info": {
   "codemirror_mode": {
    "name": "ipython",
    "version": 3
   },
   "file_extension": ".py",
   "mimetype": "text/x-python",
   "name": "python",
   "nbconvert_exporter": "python",
   "pygments_lexer": "ipython3",
   "version": "3.8.19"
  }
 },
 "nbformat": 4,
 "nbformat_minor": 2
}
